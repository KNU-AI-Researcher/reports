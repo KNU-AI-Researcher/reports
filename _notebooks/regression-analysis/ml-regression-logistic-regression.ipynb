{
 "cells": [
  {
   "cell_type": "markdown",
   "id": "agricultural-costa",
   "metadata": {},
   "source": [
    "# \"[MachineLearning] Regression Analysis - Logistic Regression\"\n",
    "> 2022.03.20 \n",
    "\n",
    "- toc: false\n",
    "- badges: false\n",
    "- comments: false\n",
    "- categories: [regression analysis]\n",
    "- hide_{github,colab,binder,deepnote}_badge: true"
   ]
  },
  {
   "cell_type": "markdown",
   "id": "5bddfbdc",
   "metadata": {},
   "source": [
    "__Content creators:__ 이중원\n",
    "\n",
    "__Content reviewers:__ "
   ]
  },
  {
   "cell_type": "markdown",
   "id": "indian-history",
   "metadata": {},
   "source": [
    "# 1. Overview"
   ]
  },
  {
   "cell_type": "markdown",
   "id": "integrated-revelation",
   "metadata": {},
   "source": [
    "### Logistic Regression란?\n",
    "- Regression기법을 분류 문제로 확장한 것\n",
    "\n",
    "- 이항 형태의 범주형 데이터인 경우, 사용가능 ex) 양성/음성, 합격/불합격\n",
    "\n",
    "- 입력 값이 각 클래스에 속하는 확률값을 회귀분석으로 예측\n",
    "\n",
    "\n",
    "### Odds\n",
    "- 임의의 사건 X가 발생하지 않을 확률 대비 일어날 확률의 비율\n",
    "\n",
    "- $Odds = {P(y=1|x)\\over {1-P(y=1|x)}} = exp(mx + b)$\n",
    "\n",
    "\n",
    "### Logistic Function (Sigmoid Function)\n",
    "- 𝑥 ∈ (−∞,∞)를 −1,1 범위로 매핑하는 S자형 함수\n",
    "- $f(x) = {1\\over {1 + \\exp(-x)}}$ = $exp(x)\\over {1 + \\exp(x)}$"
   ]
  },
  {
   "cell_type": "markdown",
   "id": "abroad-apple",
   "metadata": {},
   "source": [
    "# 2. Example"
   ]
  },
  {
   "cell_type": "markdown",
   "id": "97144f1e",
   "metadata": {},
   "source": [
    "### 데이터셋 준비"
   ]
  },
  {
   "cell_type": "code",
   "execution_count": 22,
   "id": "f4fb7a7a",
   "metadata": {},
   "outputs": [
    {
     "data": {
      "text/plain": [
       "((120, 4), (120,), (30, 4), (30,))"
      ]
     },
     "execution_count": 22,
     "metadata": {},
     "output_type": "execute_result"
    }
   ],
   "source": [
    "from sklearn.datasets import load_iris\n",
    "from sklearn.linear_model import LogisticRegression\n",
    "from sklearn.model_selection import train_test_split\n",
    "\n",
    "X, y = load_iris(return_X_y=True)\n",
    "\n",
    "X_train, X_valid, y_train, y_valid = train_test_split(X, y, stratify=y, test_size=0.2, random_state=30)\n",
    "\n",
    "X_train.shape, y_train.shape, X_valid.shape, y_valid.shape\n"
   ]
  },
  {
   "cell_type": "markdown",
   "id": "7c58f759",
   "metadata": {},
   "source": [
    "### 학습"
   ]
  },
  {
   "cell_type": "code",
   "execution_count": 23,
   "id": "1a8f7cbe",
   "metadata": {},
   "outputs": [
    {
     "name": "stderr",
     "output_type": "stream",
     "text": [
      "/Users/jwon/opt/anaconda3/lib/python3.8/site-packages/sklearn/linear_model/_logistic.py:763: ConvergenceWarning: lbfgs failed to converge (status=1):\n",
      "STOP: TOTAL NO. of ITERATIONS REACHED LIMIT.\n",
      "\n",
      "Increase the number of iterations (max_iter) or scale the data as shown in:\n",
      "    https://scikit-learn.org/stable/modules/preprocessing.html\n",
      "Please also refer to the documentation for alternative solver options:\n",
      "    https://scikit-learn.org/stable/modules/linear_model.html#logistic-regression\n",
      "  n_iter_i = _check_optimize_result(\n"
     ]
    },
    {
     "data": {
      "text/plain": [
       "LogisticRegression(random_state=0)"
      ]
     },
     "execution_count": 23,
     "metadata": {},
     "output_type": "execute_result"
    }
   ],
   "source": [
    "classifier = LogisticRegression(random_state=0)\n",
    "\n",
    "classifier.fit(X_train, y_train)"
   ]
  },
  {
   "cell_type": "markdown",
   "id": "bc9685df",
   "metadata": {},
   "source": [
    "### 예측"
   ]
  },
  {
   "cell_type": "code",
   "execution_count": 24,
   "id": "3792d27e",
   "metadata": {},
   "outputs": [
    {
     "data": {
      "text/plain": [
       "array([[6.16121922e-07, 2.15069658e-02, 9.78492418e-01],\n",
       "       [2.24813541e-04, 1.44106469e-01, 8.55668717e-01],\n",
       "       [9.86872166e-01, 1.31278254e-02, 8.45196341e-09],\n",
       "       [7.42905537e-02, 9.15190175e-01, 1.05192710e-02],\n",
       "       [6.17130899e-02, 9.34883255e-01, 3.40365509e-03],\n",
       "       [9.85451789e-01, 1.45481989e-02, 1.22669080e-08],\n",
       "       [9.83349822e-01, 1.66501582e-02, 2.00523225e-08],\n",
       "       [9.74561843e-01, 2.54381352e-02, 2.13873436e-08],\n",
       "       [1.05323138e-06, 2.92859163e-02, 9.70713030e-01],\n",
       "       [4.60507545e-03, 8.28495273e-01, 1.66899652e-01],\n",
       "       [2.90757993e-02, 9.57199786e-01, 1.37244147e-02],\n",
       "       [5.07575743e-05, 5.38960827e-02, 9.46053160e-01],\n",
       "       [2.38861710e-02, 9.59412646e-01, 1.67011834e-02],\n",
       "       [3.74400885e-06, 1.20910117e-02, 9.87905244e-01],\n",
       "       [9.76403956e-01, 2.35960160e-02, 2.74985641e-08],\n",
       "       [9.76299518e-01, 2.37004423e-02, 3.95390327e-08],\n",
       "       [9.52336822e-01, 4.76629417e-02, 2.36333757e-07],\n",
       "       [5.73850109e-04, 4.81120782e-01, 5.18305368e-01],\n",
       "       [9.81557938e-01, 1.84420425e-02, 1.96011616e-08],\n",
       "       [1.01003329e-02, 7.51043736e-01, 2.38855931e-01],\n",
       "       [1.67803358e-05, 1.42899971e-01, 8.57083248e-01],\n",
       "       [9.73880934e-01, 2.61190258e-02, 3.98647797e-08],\n",
       "       [8.45573758e-03, 9.35096103e-01, 5.64481595e-02],\n",
       "       [6.91704414e-03, 8.60176111e-01, 1.32906844e-01],\n",
       "       [3.84852525e-04, 4.50294871e-01, 5.49320276e-01],\n",
       "       [1.11451716e-03, 8.01459697e-01, 1.97425786e-01],\n",
       "       [6.74370685e-05, 4.30887311e-02, 9.56843832e-01],\n",
       "       [6.18950666e-05, 1.89381057e-01, 8.10557048e-01],\n",
       "       [9.78683149e-01, 2.13168316e-02, 1.91861458e-08],\n",
       "       [4.82177753e-06, 5.19363140e-02, 9.48058864e-01]])"
      ]
     },
     "execution_count": 24,
     "metadata": {},
     "output_type": "execute_result"
    }
   ],
   "source": [
    "y_pred = classifier.predict(X_valid)\n",
    "y_pred\n"
   ]
  },
  {
   "cell_type": "code",
   "execution_count": 26,
   "id": "6006f5c6",
   "metadata": {},
   "outputs": [
    {
     "data": {
      "text/plain": [
       "0.9666666666666667"
      ]
     },
     "execution_count": 26,
     "metadata": {},
     "output_type": "execute_result"
    }
   ],
   "source": [
    "classifier.score(X_valid, y_valid)"
   ]
  }
 ],
 "metadata": {
  "kernelspec": {
   "display_name": "Python 3 (ipykernel)",
   "language": "python",
   "name": "python3"
  },
  "language_info": {
   "codemirror_mode": {
    "name": "ipython",
    "version": 3
   },
   "file_extension": ".py",
   "mimetype": "text/x-python",
   "name": "python",
   "nbconvert_exporter": "python",
   "pygments_lexer": "ipython3",
   "version": "3.8.3"
  }
 },
 "nbformat": 4,
 "nbformat_minor": 5
}
