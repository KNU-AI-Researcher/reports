{
 "cells": [
  {
   "cell_type": "markdown",
   "id": "agricultural-costa",
   "metadata": {},
   "source": [
    "# \"[MachineLearning] Classification - Naive Bayes Classification\"\n",
    "> KNU AIR week2\n",
    "\n",
    "- toc: false\n",
    "- badges: false\n",
    "- comments: false\n",
    "- categories: [classification]\n",
    "- hide_{github,colab,binder,deepnote}_badge: true"
   ]
  },
  {
   "cell_type": "markdown",
   "id": "3badbd48",
   "metadata": {},
   "source": [
    "__Content creators:__ 이중원\n",
    "\n",
    "__Content reviewers:__ "
   ]
  },
  {
   "cell_type": "markdown",
   "id": "indian-history",
   "metadata": {},
   "source": [
    "# 1. Overview"
   ]
  },
  {
   "cell_type": "markdown",
   "id": "integrated-revelation",
   "metadata": {},
   "source": [
    "### Naive Bayes란?\n",
    "- 베이즈 정리에 기반한 통계적 분류 기법\n",
    "\n",
    "- 공통적으로 모든 특성들이 서로 독립임을 가정\n",
    "\n",
    "- 복잡한 반복 매개변수 추정 없어 매우 큰 데이터셋에 유용함\n",
    "\n",
    "- 정확성이 높음\n",
    "\n",
    "- 스팸 메일 필터, 텍스트 분류, 감정 분석, 추천 시스템 등에 활용\n",
    "\n",
    "\n",
    "### 알고리즘\n",
    "- 베이즈 정리는 P(c), P(x) 및 P(x|c)로부터 후방 확률 P(c|x)를 계산하는 방법을 제공합니다. \n",
    "\n",
    "- Naigive Bayes 분류자는 주어진 클래스(c)에 대한 예측 변수(x) 값의 효과가 다른 예측 변수의 값과 독립적이라고 가정합니다.\n",
    "  \n",
    "      \n",
    "1. P(c|x)는 주어진 예측 변수(속성)에서 클래스(목표값)의 후방 확률   \n",
    "\n",
    "2. P(c)는 클래스의 사전 확률\n",
    "\n",
    "3. P(x|c)는 주어진 클래스의 확률인 우도\n",
    "\n",
    "4. P(x)는 예측 변수의 사전 확률"
   ]
  },
  {
   "cell_type": "markdown",
   "id": "a1c14e58",
   "metadata": {},
   "source": [
    "$$  Bayes Rule: {P(c|x) = }{{P(x|c)P(c)}\\over P(x)} $$"
   ]
  },
  {
   "cell_type": "markdown",
   "id": "abroad-apple",
   "metadata": {},
   "source": [
    "# 2. Example\n",
    "\n"
   ]
  },
  {
   "cell_type": "markdown",
   "id": "caa739e9",
   "metadata": {},
   "source": [
    "### 데이터셋 준비"
   ]
  },
  {
   "cell_type": "code",
   "execution_count": 1,
   "id": "subtle-familiar",
   "metadata": {},
   "outputs": [
    {
     "data": {
      "text/plain": [
       "((105, 4), (105,), (45, 4), (45,))"
      ]
     },
     "execution_count": 1,
     "metadata": {},
     "output_type": "execute_result"
    }
   ],
   "source": [
    "from sklearn.datasets import load_iris\n",
    "from sklearn.model_selection import train_test_split\n",
    "\n",
    "X, y = load_iris(return_X_y=True)\n",
    "\n",
    "X_train, X_valid, y_train, y_valid = train_test_split(X, y, stratify=y, test_size=0.3, random_state=34)\n",
    "\n",
    "X_train.shape, y_train.shape, X_valid.shape, y_valid.shape"
   ]
  },
  {
   "cell_type": "markdown",
   "id": "2bc5e610",
   "metadata": {},
   "source": [
    "### 학습"
   ]
  },
  {
   "cell_type": "code",
   "execution_count": 6,
   "id": "f8c55faf",
   "metadata": {},
   "outputs": [
    {
     "name": "stdout",
     "output_type": "stream",
     "text": [
      "Predicted Value: [2 1 1 1 0 1 2 0 2 2 2 0 1 2 0 1 0 0 1 2 2 0 1 1 2 1 1 1 1 1 0 0 1 2 2 0 2\n",
      " 1 0 2 0 0 2 0 0]\n"
     ]
    }
   ],
   "source": [
    "from sklearn.naive_bayes import GaussianNB\n",
    "\n",
    "#Create a Gaussian Classifier\n",
    "classifier = GaussianNB()\n",
    "\n",
    "# Train the model using the training sets\n",
    "classifier.fit(X_train, y_train)\n",
    "\n",
    "#Predict Output\n",
    "predicted= classifier.predict(X_valid) # 0:Overcast, 2:Mild\n",
    "print(\"Predicted Value:\", predicted) # 1: Yes"
   ]
  },
  {
   "cell_type": "markdown",
   "id": "6c4771f8",
   "metadata": {},
   "source": [
    "### 예측"
   ]
  },
  {
   "cell_type": "code",
   "execution_count": 8,
   "id": "b931dc09",
   "metadata": {},
   "outputs": [
    {
     "data": {
      "text/plain": [
       "0.9333333333333333"
      ]
     },
     "execution_count": 8,
     "metadata": {},
     "output_type": "execute_result"
    }
   ],
   "source": [
    "classifier.score(X_valid, y_valid)"
   ]
  }
 ],
 "metadata": {
  "kernelspec": {
   "display_name": "Python 3 (ipykernel)",
   "language": "python",
   "name": "python3"
  },
  "language_info": {
   "codemirror_mode": {
    "name": "ipython",
    "version": 3
   },
   "file_extension": ".py",
   "mimetype": "text/x-python",
   "name": "python",
   "nbconvert_exporter": "python",
   "pygments_lexer": "ipython3",
   "version": "3.8.3"
  }
 },
 "nbformat": 4,
 "nbformat_minor": 5
}
