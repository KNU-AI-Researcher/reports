{
 "cells": [
  {
   "cell_type": "markdown",
   "id": "agricultural-costa",
   "metadata": {},
   "source": [
    "# \"[MachineLearning] Classification - Support Vector Machine\"\n",
    "> KNU AIR week2\n",
    "\n",
    "- toc: false\n",
    "- badges: false\n",
    "- comments: false\n",
    "- categories: [classification]\n",
    "- hide_{github,colab,binder,deepnote}_badge: true"
   ]
  },
  {
   "cell_type": "markdown",
   "id": "86376530",
   "metadata": {},
   "source": [
    "__Content creators:__ 이중원\n",
    "\n",
    "__Content reviewers:__ "
   ]
  },
  {
   "cell_type": "markdown",
   "id": "indian-history",
   "metadata": {},
   "source": [
    "# 1. Overview"
   ]
  },
  {
   "cell_type": "markdown",
   "id": "integrated-revelation",
   "metadata": {},
   "source": [
    "### SVM(Support Vector Machine)란?\n",
    "- 결정 경계(Decision Boundary), 즉 분류를 위한 기준 선을 정의하는 모델\n",
    "\n",
    "- 새로운 데이터가 주어졌을 때, 어느쪽 결정경계에 포함하는지에 따라 분류\n",
    "\n",
    "\n",
    "### 좋은 결정경계란?\n",
    "- 데이터 군으로부터 멀리 떨어져있는 결정 경게\n",
    "\n",
    "- 서포트 벡터: 결정 경계와 가까이 있는 데이터들\n",
    "\n",
    "- Margin: 결정 경계와 서포트 벡터 사이의 거리\n",
    "\n",
    "- 최적의 결정경게는 Margin을 최대화 한다\n",
    "\n",
    "- n개의 속성을 가진 데이터에는 최소 n+1개의 서포트 벡터가 존재\n",
    "\n",
    "\n",
    "### SVM 장점\n",
    "- SVM에서 결정 경계는 서포트 벡터에 의해 정의되므로, 데이터 중에서 서포트 벡터만을 잘 선별하면 필요없는 데이터들을 무시할 수 있다.\n",
    "\n",
    "- 이로인해 매우 빠르다는 장점이 있다."
   ]
  },
  {
   "cell_type": "markdown",
   "id": "abroad-apple",
   "metadata": {},
   "source": [
    "# 2. Example"
   ]
  },
  {
   "cell_type": "markdown",
   "id": "97144f1e",
   "metadata": {},
   "source": [
    "### 데이터셋 준비"
   ]
  },
  {
   "cell_type": "code",
   "execution_count": 11,
   "id": "f4fb7a7a",
   "metadata": {},
   "outputs": [
    {
     "data": {
      "text/plain": [
       "((105, 4), (105,), (45, 4), (45,))"
      ]
     },
     "execution_count": 11,
     "metadata": {},
     "output_type": "execute_result"
    }
   ],
   "source": [
    "from sklearn.datasets import load_iris\n",
    "from sklearn.model_selection import train_test_split\n",
    "\n",
    "X, y = load_iris(return_X_y=True)\n",
    "\n",
    "X_train, X_valid, y_train, y_valid = train_test_split(X, y, stratify=y, test_size=0.3, random_state=34)\n",
    "\n",
    "X_train.shape, y_train.shape, X_valid.shape, y_valid.shape\n"
   ]
  },
  {
   "cell_type": "markdown",
   "id": "7c58f759",
   "metadata": {},
   "source": [
    "### 학습"
   ]
  },
  {
   "cell_type": "code",
   "execution_count": 12,
   "id": "1a8f7cbe",
   "metadata": {},
   "outputs": [
    {
     "data": {
      "text/plain": [
       "SVC(kernel='linear')"
      ]
     },
     "execution_count": 12,
     "metadata": {},
     "output_type": "execute_result"
    }
   ],
   "source": [
    "from sklearn.svm import SVC\n",
    "\n",
    "classifier = SVC(kernel = 'linear')\n",
    "\n",
    "\n",
    "classifier.fit(X_train, y_train) "
   ]
  },
  {
   "cell_type": "markdown",
   "id": "bc9685df",
   "metadata": {},
   "source": [
    "### 예측"
   ]
  },
  {
   "cell_type": "code",
   "execution_count": 13,
   "id": "3792d27e",
   "metadata": {},
   "outputs": [
    {
     "data": {
      "text/plain": [
       "array([2, 1, 2, 1, 0, 1, 2, 0, 2, 2, 2, 0, 1, 2, 0, 1, 0, 0, 1, 2, 2, 0,\n",
       "       1, 1, 2, 1, 1, 1, 1, 1, 0, 0, 1, 2, 2, 0, 2, 1, 0, 2, 0, 0, 2, 0,\n",
       "       0])"
      ]
     },
     "execution_count": 13,
     "metadata": {},
     "output_type": "execute_result"
    }
   ],
   "source": [
    "classifier.predict(X_valid)\n"
   ]
  },
  {
   "cell_type": "code",
   "execution_count": 14,
   "id": "6006f5c6",
   "metadata": {},
   "outputs": [
    {
     "data": {
      "text/plain": [
       "0.9555555555555556"
      ]
     },
     "execution_count": 14,
     "metadata": {},
     "output_type": "execute_result"
    }
   ],
   "source": [
    "classifier.score(X_valid, y_valid)"
   ]
  },
  {
   "cell_type": "code",
   "execution_count": null,
   "id": "6006f5c6",
   "metadata": {},
   "outputs": [
    {
     "data": {
      "text/plain": [
       "0.9555555555555556"
      ]
     },
     "metadata": {},
     "output_type": "display_data"
    }
   ],
   "source": [
    "classifier.score(X_valid, y_valid)"
   ]
  }
 ],
 "metadata": {
  "kernelspec": {
   "display_name": "Python 3 (ipykernel)",
   "language": "python",
   "name": "python3"
  },
  "language_info": {
   "codemirror_mode": {
    "name": "ipython",
    "version": 3
   },
   "file_extension": ".py",
   "mimetype": "text/x-python",
   "name": "python",
   "nbconvert_exporter": "python",
   "pygments_lexer": "ipython3",
   "version": "3.8.3"
  }
 },
 "nbformat": 4,
 "nbformat_minor": 5
}
