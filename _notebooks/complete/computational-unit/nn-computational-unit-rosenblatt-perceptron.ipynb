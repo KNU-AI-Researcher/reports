{
 "cells": [
  {
   "cell_type": "markdown",
   "id": "14a61749",
   "metadata": {},
   "source": [
    "# \"[NeuralNetwork] Computational Unit - Rosenblatt's Perceptron\"\n",
    "> KNU AIR week4\n",
    "\n",
    "- toc: false\n",
    "- badges: false\n",
    "- comments: false\n",
    "- categories: [computational unit]\n",
    "- hide_{github,colab,binder,deepnote}_badge: true"
   ]
  },
  {
   "cell_type": "markdown",
   "id": "935060d6",
   "metadata": {},
   "source": [
    "__Content creators:__ HEESUNG YANG\n",
    "\n",
    "__Content reviewers:__ "
   ]
  },
  {
   "cell_type": "markdown",
   "id": "05813563",
   "metadata": {},
   "source": [
    "# 1. Overview\n",
    "- First model for supervised neural network, in 1957\n",
    "- Single-layer single-output neural network for binary classification of linearly separable dataset\n",
    "- Model :\n",
    "\n",
    "$\n",
    "\\text{For} \\,\\ \\mathbf{x} = [+1, \\,\\ x_1, \\,\\ \\cdots, \\,\\ x_m]^T \\,\\ \\text{and} \\,\\ \\mathbf{w} = [b, \\,\\ w_1, \\,\\ \\cdots, \\,\\ w_m]^T\n",
    "$\n",
    "\n",
    "$$\n",
    "\\hat{y} = sgn(\\mathbf{w}^T \\mathbf{x}) \\quad \\text{where} \\,\\ {+1} \\,\\ \\text{is positive, and} \\,\\ \\text{-1} \\,\\ \\text{is negative predicts.}\n",
    "$$\n",
    "\n",
    "- Learning : \n",
    "$$\n",
    "\\mathbf{w}^* = \\underset{\\mathbf{w}}{\\arg\\min} \\sum_{\\mathbf{x} \\in \\mathcal{H}} | \\mathbf{w}^T \\mathbf{x} | \\quad \\text{where} \\,\\ \\mathcal{H} \\,\\ \\text{is set of misclassified samples.}\n",
    "$$\n",
    "\n",
    "\n",
    "- Weights update :\n",
    "\n",
    "$$\n",
    "\\Delta \\mathbf{w} = \\eta (y - \\hat{y}) \\mathbf{x}\n",
    "$$"
   ]
  },
  {
   "cell_type": "markdown",
   "id": "4b5c1318",
   "metadata": {},
   "source": [
    "------------------------"
   ]
  },
  {
   "cell_type": "markdown",
   "id": "b5280e98",
   "metadata": {},
   "source": [
    "# 2. Example"
   ]
  },
  {
   "cell_type": "markdown",
   "id": "ad6d2ed7-3eea-4327-ad1f-2a62a64bf205",
   "metadata": {},
   "source": [
    "XOR Problem"
   ]
  },
  {
   "cell_type": "code",
   "execution_count": 80,
   "id": "d6842359-de38-45e8-95e4-8bffc8d6b46a",
   "metadata": {},
   "outputs": [],
   "source": [
    "import numpy as np\n",
    "\n",
    "# XOR truth table\n",
    "X = np.array([[1, 0, 0],\n",
    "             [1, 0, 1],\n",
    "             [1, 1, 0],\n",
    "             [1, 1, 1]]) # first column is +1 (bias multiplicated)\n",
    "yy = np.array([-1, 1, 1, -1]).T"
   ]
  },
  {
   "cell_type": "code",
   "execution_count": 132,
   "id": "73e727ab-581a-4700-b041-75b5c1432fde",
   "metadata": {},
   "outputs": [],
   "source": [
    "%matplotlib inline\n",
    "import matplotlib.pyplot as plt\n",
    "\n",
    "def init_parameters():\n",
    "    ww = np.random.rand(3) # first column is bias\n",
    "    return ww\n",
    "\n",
    "def model(ww, xx):\n",
    "    return 1 if ww.T@xx >= 0 else -1\n",
    "\n",
    "def train(ww, X, y, learning_rate, start_epoch, num_epoch):\n",
    "    num_data = X.shape[0]\n",
    "    ax = plt.subplots()\n",
    "    for epoch in range(num_epoch):\n",
    "        # SGD context\n",
    "        for i in range(num_data):\n",
    "            y_pred = model(ww, X[i, :])\n",
    "            ww = ww + learning_rate*(y[i] - y_pred)*X[i, :]\n",
    "        print(f'[EPOCH {start_epoch + epoch}] weights ', ww)\n",
    "    return ww\n",
    "\n",
    "def visualize(ww, X, y, title):\n",
    "    ax = plt.subplot()\n",
    "    # set plot\n",
    "    ax.set_title(title)\n",
    "    ax.set_xlim((-0.5, 1.5))\n",
    "    ax.set_ylim((-0.5, 1.5))\n",
    "    ax.set_xticks([0, 1])\n",
    "    ax.set_yticks([0, 1])\n",
    "    \n",
    "    # Scatter\n",
    "    [ax.scatter(X[i, 1], X[i, 2], c='red') for i in range(X.shape[0]) if y[i] == 1]\n",
    "    [ax.scatter(X[i, 1], X[i, 2], c='blue') for i in range(X.shape[0]) if y[i] == -1]\n",
    "    \n",
    "    # Dicision boundary\n",
    "    # ww[0] + ww[1]*x + ww[2]*y = 0\n",
    "    xlins = np.linspace(-2, 2, 2)\n",
    "    ylins = -ww[0]/ww[2] - ww[1]*xlins/ww[2]\n",
    "    ax.plot(xlins, ylins, c='black')"
   ]
  },
  {
   "cell_type": "markdown",
   "id": "fa39b7cf-162b-4efb-8ec1-60b619421f30",
   "metadata": {},
   "source": [
    "### Result"
   ]
  },
  {
   "cell_type": "code",
   "execution_count": 141,
   "id": "7b801a96-4881-4f59-8b40-c2d86203fa49",
   "metadata": {},
   "outputs": [
    {
     "data": {
      "image/png": "[encoded data removed]",
      "text/plain": [
       "<Figure size 432x288 with 1 Axes>"
      ]
     },
     "metadata": {
      "needs_background": "light"
     },
     "output_type": "display_data"
    }
   ],
   "source": [
    "ww = init_parameters()\n",
    "visualize(ww, X, yy, \"Before training\")"
   ]
  },
  {
   "cell_type": "code",
   "execution_count": 142,
   "id": "08b56e17-a3b4-4212-86b8-1658b35727ba",
   "metadata": {},
   "outputs": [
    {
     "name": "stdout",
     "output_type": "stream",
     "text": [
      "[EPOCH 0] weights  [ 0.04599641  0.63590948 -0.01149363]\n",
      "[EPOCH 1] weights  [ 0.00599641  0.61590948 -0.03149363]\n",
      "[EPOCH 2] weights  [-0.01400359  0.59590948 -0.03149363]\n"
     ]
    },
    {
     "data": {
      "image/png": "[encoded data removed]",
      "text/plain": [
       "<Figure size 432x288 with 1 Axes>"
      ]
     },
     "metadata": {
      "needs_background": "light"
     },
     "output_type": "display_data"
    }
   ],
   "source": [
    "ww = train(ww, X, yy, 0.01, 0, 3)\n",
    "visualize(ww, X, yy, \"Epoch 3\")"
   ]
  },
  {
   "cell_type": "code",
   "execution_count": 143,
   "id": "cee2388d-3199-44f5-bc3b-59df4158cede",
   "metadata": {},
   "outputs": [
    {
     "name": "stdout",
     "output_type": "stream",
     "text": [
      "[EPOCH 3] weights  [-0.01400359  0.57590948 -0.03149363]\n",
      "[EPOCH 4] weights  [-0.01400359  0.55590948 -0.03149363]\n",
      "[EPOCH 5] weights  [-0.01400359  0.53590948 -0.03149363]\n",
      "[EPOCH 6] weights  [-0.01400359  0.51590948 -0.03149363]\n",
      "[EPOCH 7] weights  [-0.01400359  0.49590948 -0.03149363]\n",
      "[EPOCH 8] weights  [-0.01400359  0.47590948 -0.03149363]\n",
      "[EPOCH 9] weights  [-0.01400359  0.45590948 -0.03149363]\n"
     ]
    },
    {
     "data": {
      "image/png": "[encoded data removed]",
      "text/plain": [
       "<Figure size 432x288 with 1 Axes>"
      ]
     },
     "metadata": {
      "needs_background": "light"
     },
     "output_type": "display_data"
    }
   ],
   "source": [
    "ww = train(ww, X, yy, 0.01, 3, 7)\n",
    "visualize(ww, X, yy, \"Epoch 10\")"
   ]
  },
  {
   "cell_type": "code",
   "execution_count": 144,
   "id": "cc98908d-7dfa-4b13-9728-984b5e95df8e",
   "metadata": {},
   "outputs": [
    {
     "name": "stdout",
     "output_type": "stream",
     "text": [
      "[EPOCH 10] weights  [-0.01400359  0.43590948 -0.03149363]\n",
      "[EPOCH 11] weights  [-0.01400359  0.41590948 -0.03149363]\n",
      "[EPOCH 12] weights  [-0.01400359  0.39590948 -0.03149363]\n",
      "[EPOCH 13] weights  [-0.01400359  0.37590948 -0.03149363]\n",
      "[EPOCH 14] weights  [-0.01400359  0.35590948 -0.03149363]\n",
      "[EPOCH 15] weights  [-0.01400359  0.33590948 -0.03149363]\n",
      "[EPOCH 16] weights  [-0.01400359  0.31590948 -0.03149363]\n",
      "[EPOCH 17] weights  [-0.01400359  0.29590948 -0.03149363]\n",
      "[EPOCH 18] weights  [-0.01400359  0.27590948 -0.03149363]\n",
      "[EPOCH 19] weights  [-0.01400359  0.25590948 -0.03149363]\n",
      "[EPOCH 20] weights  [-0.01400359  0.23590948 -0.03149363]\n",
      "[EPOCH 21] weights  [-0.01400359  0.21590948 -0.03149363]\n",
      "[EPOCH 22] weights  [-0.01400359  0.19590948 -0.03149363]\n",
      "[EPOCH 23] weights  [-0.01400359  0.17590948 -0.03149363]\n",
      "[EPOCH 24] weights  [-0.01400359  0.15590948 -0.03149363]\n",
      "[EPOCH 25] weights  [-0.01400359  0.13590948 -0.03149363]\n",
      "[EPOCH 26] weights  [-0.01400359  0.11590948 -0.03149363]\n",
      "[EPOCH 27] weights  [-0.01400359  0.09590948 -0.03149363]\n",
      "[EPOCH 28] weights  [-0.01400359  0.07590948 -0.03149363]\n",
      "[EPOCH 29] weights  [-0.01400359  0.05590948 -0.03149363]\n",
      "[EPOCH 30] weights  [-0.01400359  0.03590948 -0.03149363]\n",
      "[EPOCH 31] weights  [-0.01400359  0.01590948 -0.03149363]\n",
      "[EPOCH 32] weights  [-0.01400359 -0.00409052 -0.03149363]\n",
      "[EPOCH 33] weights  [ 0.00599641 -0.00409052 -0.01149363]\n",
      "[EPOCH 34] weights  [-0.01400359 -0.02409052 -0.01149363]\n",
      "[EPOCH 35] weights  [ 0.00599641 -0.02409052 -0.01149363]\n",
      "[EPOCH 36] weights  [ 0.00599641 -0.02409052 -0.01149363]\n",
      "[EPOCH 37] weights  [ 0.00599641 -0.02409052 -0.01149363]\n",
      "[EPOCH 38] weights  [ 0.00599641 -0.02409052 -0.01149363]\n",
      "[EPOCH 39] weights  [ 0.00599641 -0.02409052 -0.01149363]\n",
      "[EPOCH 40] weights  [ 0.00599641 -0.02409052 -0.01149363]\n",
      "[EPOCH 41] weights  [ 0.00599641 -0.02409052 -0.01149363]\n",
      "[EPOCH 42] weights  [ 0.00599641 -0.02409052 -0.01149363]\n",
      "[EPOCH 43] weights  [ 0.00599641 -0.02409052 -0.01149363]\n",
      "[EPOCH 44] weights  [ 0.00599641 -0.02409052 -0.01149363]\n",
      "[EPOCH 45] weights  [ 0.00599641 -0.02409052 -0.01149363]\n",
      "[EPOCH 46] weights  [ 0.00599641 -0.02409052 -0.01149363]\n",
      "[EPOCH 47] weights  [ 0.00599641 -0.02409052 -0.01149363]\n",
      "[EPOCH 48] weights  [ 0.00599641 -0.02409052 -0.01149363]\n",
      "[EPOCH 49] weights  [ 0.00599641 -0.02409052 -0.01149363]\n"
     ]
    },
    {
     "data": {
      "image/png": "[encoded data removed]",
      "text/plain": [
       "<Figure size 432x288 with 1 Axes>"
      ]
     },
     "metadata": {
      "needs_background": "light"
     },
     "output_type": "display_data"
    }
   ],
   "source": [
    "ww = train(ww, X, yy, 0.01, 10, 40)\n",
    "visualize(ww, X, yy, \"Epoch 50\")"
   ]
  }
 ],
 "metadata": {
  "kernelspec": {
   "display_name": "Python 3 (ipykernel)",
   "language": "python",
   "name": "python3"
  },
  "language_info": {
   "codemirror_mode": {
    "name": "ipython",
    "version": 3
   },
   "file_extension": ".py",
   "mimetype": "text/x-python",
   "name": "python",
   "nbconvert_exporter": "python",
   "pygments_lexer": "ipython3",
   "version": "3.8.10"
  }
 },
 "nbformat": 4,
 "nbformat_minor": 5
}
