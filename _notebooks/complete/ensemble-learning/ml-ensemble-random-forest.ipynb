{
 "cells": [
  {
   "cell_type": "markdown",
   "id": "14a61749",
   "metadata": {},
   "source": [
    "# \"[MachineLearning] Ensemble Learning - Random Forest\"\n",
    "> KNU AIR week4\n",
    "\n",
    "- toc: false\n",
    "- badges: false\n",
    "- comments: false\n",
    "- categories: [ensemble learning]\n",
    "- hide_{github,colab,binder,deepnote}_badge: true"
   ]
  },
  {
   "cell_type": "markdown",
   "id": "935060d6",
   "metadata": {},
   "source": [
    "__Content creators:__ 이주형, 이중원\n",
    "\n",
    "__Content reviewers:__ "
   ]
  },
  {
   "cell_type": "markdown",
   "id": "05813563",
   "metadata": {},
   "source": [
    "# 1. Overview\n",
    "\n",
    "+ A specialized bagging for decision tree algorithms\n",
    "+ Sampling w/ replacement + Selecting variables randomly"
   ]
  },
  {
   "cell_type": "markdown",
   "id": "ec5df6b6",
   "metadata": {},
   "source": [
    "### Generalization Error\n",
    "+ If the population size is large enough, then the generalization error of random forests bounded by $$ \\textrm{Generalization Error} \\le \\frac{\\bar{p} \\left( 1-s^2 \\right)}{s^2}$$\n",
    "    + where $ \\bar{p} $ is mean value of correlation coefficients between individual trees,\n",
    "    + $ s^2 $ is margin function.\n",
    "+ The more accurate the individual classifiers, the larger the $ s^2 $\n",
    "+ The less correlated among the classifiers, the lower the generalization error."
   ]
  },
  {
   "cell_type": "markdown",
   "id": "2d6065f8",
   "metadata": {},
   "source": [
    "### Computing Variable importance\n",
    "1. Compute the OOB error for the original dataset $ e_i $\n",
    "2. Compute the OOB error for the dataset in which the variable $ x_i $ is permuted $ p_i $.\n",
    "3. Compute the variable importance based on the mean and stdev of $ d_i = {p_i}-{e_i} $ over all trees in the population.\n",
    "\n",
    "+ The more important variable $ x_i $, the larger the $ d_i $."
   ]
  },
  {
   "cell_type": "markdown",
   "id": "528801b9",
   "metadata": {},
   "source": [
    "## Random Forest : Example"
   ]
  },
  {
   "cell_type": "code",
   "execution_count": 7,
   "id": "0f4c4362",
   "metadata": {},
   "outputs": [],
   "source": [
    "%matplotlib inline\n",
    "from sklearn.metrics import r2_score\n",
    "from sklearn.datasets import fetch_california_housing\n",
    "import numpy as np\n",
    "from matplotlib import pyplot as plt\n",
    "from sklearn.ensemble import RandomForestRegressor"
   ]
  },
  {
   "cell_type": "code",
   "execution_count": 9,
   "id": "c7b94935",
   "metadata": {},
   "outputs": [],
   "source": [
    "X, y = fetch_california_housing(data_home='./', return_X_y=True)"
   ]
  },
  {
   "cell_type": "code",
   "execution_count": 10,
   "id": "1d99d818",
   "metadata": {},
   "outputs": [
    {
     "data": {
      "text/plain": [
       "0.8118371967651296"
      ]
     },
     "execution_count": 10,
     "metadata": {},
     "output_type": "execute_result"
    }
   ],
   "source": [
    "regr = RandomForestRegressor(\n",
    "                    oob_score=True,\n",
    "                    ).fit(X, y)\n",
    "\n",
    "regr.oob_score_"
   ]
  }
 ],
 "metadata": {
  "kernelspec": {
   "display_name": "Python 3 (ipykernel)",
   "language": "python",
   "name": "python3"
  },
  "language_info": {
   "codemirror_mode": {
    "name": "ipython",
    "version": 3
   },
   "file_extension": ".py",
   "mimetype": "text/x-python",
   "name": "python",
   "nbconvert_exporter": "python",
   "pygments_lexer": "ipython3",
   "version": "3.8.10"
  }
 },
 "nbformat": 4,
 "nbformat_minor": 5
}
